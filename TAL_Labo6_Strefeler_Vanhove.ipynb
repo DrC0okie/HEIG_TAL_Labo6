{
 "cells": [
  {
   "cell_type": "markdown",
   "metadata": {},
   "source": [
    "<img src=\"https://heig-vd.ch/docs/default-source/doc-global-newsletter/2020-slim.svg\" alt=\"HEIG-VD Logo\" width=\"100\"/>\n",
    "\n",
    "# Cours TAL - Laboratoire 6\n",
    "# Trois méthodes de désambiguïsation lexicale\n",
    "\n",
    "**Objectif**\n",
    "\n",
    "L'objectif de ce laboratoire est d'implémenter et de comparer plusieurs méthodes de désambiguïsation lexicale (en anglais, *Word Sense Disambiguation* ou WSD).  Vous utiliserez un corpus avec plusieurs milliers de phrases, chaque phrase contenant une occurrence du mot anglais *interest* annotée avec le sens que ce mot possède dans la phrase respective.  Les trois méthodes sont les suivantes (elles seront détaillées par la suite) :\n",
    "\n",
    "* Algorithme de Lesk simplifié.\n",
    "* Utilisation de word2vec.\n",
    "* Classification supervisée utilisant des traits lexicaux.\n",
    "\n",
    "Les deux premières méthodes n'utilisent pas l'apprentissage automatique.  Elles fonctionnent selon le même principe : comparer le contexte d'une occurrence de *interest* avec chacune des définitions des sens (*synsets*) et choisir la définition la plus proche du contexte.  L'algorithme de Lesk définit la proximité comme le nombre de mots en commun, alors que word2vec la calcule comme la similarité de vecteurs.  La dernière méthode vise à classifier les occurrences de *interest*, les sens étant les classes, et les attributs étant les mots du contexte (apprentissage supervisé)."
   ]
  },
  {
   "cell_type": "markdown",
   "metadata": {},
   "source": [
    "## 1. Analyse des données\n",
    "\n",
    "Téléchargez le corpus *interest* depuis le [site du Prof. Ted Pedersen](http://www.d.umn.edu/~tpederse/data.html) (il se trouve en bas de sa page web).  Téléchargez l'archive ZIP marquée *original format without POS tags* et extrayez le fichier `interest-original.txt`.  Téléchargez également le fichier `README.int.txt` indiqué à la ligne au-dessus. Veuillez répondre brièvement aux questions suivantes :\n",
    "\n",
    "a. Quelles sont les URL du fichier ZIP et celle du fichier `README.int.txt` ?\n",
    "\n",
    "b. Quel est le format du fichier `interest-original.txt` et comment sont annotés les sens de *interest* ?\n",
    "\n",
    "c. Est-ce qu'il y a aussi des occurrences au pluriel (*interests*) à traite ?\n",
    "\n",
    "d. Comment sont annotées les phrases qui contiennent plusieurs occurrences du mot *interest* ?"
   ]
  },
  {
   "cell_type": "markdown",
   "metadata": {},
   "source": [
    "> Veuillez répondre ici (en commentaire) à la question.\n",
    "\n",
    "a. Voici l'URL du ZIP : https://www.d.umn.edu/~tpederse/Data/interest-original.nopos.tar.gz <br>Voici l'URL du fichier : https://www.d.umn.edu/~tpederse/Data/README.int.txt\n",
    "\n",
    "b. C'est un fichier texte où chaque phrase est délimitée par une ligne contenant \"$$\", chaque sens est annoté comme ceci interest_{numéro du sens}\n",
    "\n",
    "c. Oui, le pluriel est le singulier sont traités\n",
    "\n",
    "d. Une occurrence par phrase est annotée avec un tag de sens (ex: _1 à _6). Les autres occurrences du mot \"interest\" dans la même phrase sont marquées par un astérisque (*) placé juste avant le mot (ex: *interest) pour indiquer qu'elles ne sont pas l'objet de l'annotation de sens pour cette instance spécifique du corpus. Cela permet de respecter la consigne \"une occurrence étiquetée par phrase\" tout en conservant le contexte phrastique complet."
   ]
  },
  {
   "cell_type": "markdown",
   "metadata": {},
   "source": [
    "**1e.** D'après le fichier `README.int.txt`, quelles sont les définitions des six sens de *interest* annotés dans les données et quelles sont leurs fréquences ? Vous pouvez copier/coller l'extrait de `README`ici."
   ]
  },
  {
   "cell_type": "markdown",
   "metadata": {},
   "source": [
    "> Veuillez répondre ici (en commentaire) à la question.\n",
    "```text\n",
    "Sense 1 =  361 occurrences (15%) - readiness to give attention\n",
    "Sense 2 =   11 occurrences (01%) - quality of causing attention to be given to\n",
    "Sense 3 =   66 occurrences (03%) - activity, etc. that one gives attention to\n",
    "Sense 4 =  178 occurrences (08%) - advantage, advancement or favor\n",
    "Sense 5 =  500 occurrences (21%) - a share in a company or business\n",
    "Sense 6 = 1252 occurrences (53%) - money paid for the use of money\n",
    "\t  ----\n",
    "\t  2368 occurrences in the sense tagged corpus, where each\n",
    "\toccurrence is a single sentence that contains the word 'interest'.\n",
    "```"
   ]
  },
  {
   "cell_type": "markdown",
   "metadata": {},
   "source": [
    "**1f.** De quel dictionnaire viennent les sens précédents ? Où peut-on le consulter en ligne ?  Veuillez aligner les définitions du dictionnaire avec les six sens annotés en écrivant par exemple `Sense 3 = \"an activity that you enjoy doing or a subject that you enjoy studying\"`."
   ]
  },
  {
   "cell_type": "markdown",
   "metadata": {},
   "source": [
    "> Veuillez répondre ici (en commentaire) à la question.\n",
    "\n",
    "Le dictionnaire est \"The first edition of Longman's Dictionary of Contemporary English\", on peut le consulter ici https://www.ldoceonline.com/dictionary/\n",
    "```text\n",
    "Sense 1 = \"if you have an interest in something or someone, you want to know or learn more about them\"\n",
    "Sense 2 = \"a quality or feature of something that attracts your attention or makes you want to know more about it\"\n",
    "Sense 3 = \"an activity that you enjoy doing or a subject that you enjoy studying\"\n",
    "Sense 4 = \"the things that bring advantages to someone or something\"\n",
    "Sense 5 = \"if you have an interest in a particular company or industry, you own shares in it\"\n",
    "Sense 6 = \"the extra money that you must pay back when you borrow money\" & \"money paid to you by a bank or financial institution when you keep money in an account there\"\n",
    "```"
   ]
  },
  {
   "cell_type": "markdown",
   "metadata": {},
   "source": [
    "**1g.** En consultant [WordNet en ligne](http://wordnetweb.princeton.edu/perl/webwn), trouvez les définitions des synsets  pour le **nom commun** *interest*.  Combien de synsets y a-t-il ?  Veuillez indiquer comme avant la **définition** de chaque synset pour chacun des six sens ci-dessus (au besoin, fusionner ou ignorer des synsets)."
   ]
  },
  {
   "cell_type": "markdown",
   "metadata": {},
   "source": [
    "> Veuillez répondre ici (en commentaire) à la question.\n",
    "\n",
    "Il y a 7 synsets: \n",
    "\n",
    "```text\n",
    "Sense 1 = \"a sense of concern with and curiosity about someone or something\"\n",
    "Sense 2 = \"the power of attracting or holding one's attention (because it is unusual or exciting etc.)\"\n",
    "Sense 3 = \"a diversion that occupies one's time and thoughts (usually pleasantly)\"\n",
    "Sense 4 = \"a reason for wanting something done\"\n",
    "Sense 5 = \"a right or legal share of something; a financial involvement with something\"\n",
    "Sense 6 = \"a fixed charge for borrowing money; usually a percentage of the amount borrowed\"\n",
    "```\n",
    "\n",
    "On a ignoré le sens suivant : \"(usually plural) a social group whose members control some field of activity and who have common aims\""
   ]
  },
  {
   "cell_type": "markdown",
   "metadata": {},
   "source": [
    "**1h.** Définissez (manuellement, ou avec quelques lignes de code) une liste nommée `senses1` avec les mots des définitions du README, en supprimant les stopwords (p.ex. les mots < 4 lettres).  Affichez la liste."
   ]
  },
  {
   "cell_type": "code",
   "execution_count": 2,
   "metadata": {},
   "outputs": [],
   "source": [
    "import nltk"
   ]
  },
  {
   "cell_type": "code",
   "execution_count": 3,
   "metadata": {},
   "outputs": [],
   "source": [
    "from random import randrange"
   ]
  },
  {
   "cell_type": "code",
   "execution_count": 4,
   "metadata": {},
   "outputs": [
    {
     "name": "stdout",
     "output_type": "stream",
     "text": [
      "['readiness give attention', 'quality causing attention given', 'activity attention', 'advantage advancement favor', 'share company business', 'money paid money']\n"
     ]
    }
   ],
   "source": [
    "# Veuillez répondre ici à la question et créer la variable 'senses1' (liste de 6 listes de chaînes).\n",
    "senses1 = [\n",
    "    \"readiness give attention\",\n",
    "    \"quality causing attention given\",\n",
    "    \"activity attention\",\n",
    "    \"advantage advancement favor\",\n",
    "    \"share company business\",\n",
    "    \"money paid money\"\n",
    "]\n",
    "print(senses1)"
   ]
  },
  {
   "cell_type": "markdown",
   "metadata": {},
   "source": [
    "**1i.** En combinant les définitions obtenues aux points (4) et (5) ci-dessus, construisez une liste nommée `senses2` avec pour chacun des sens de *interest* une liste de **mots-clés** correspondants.  Vous pouvez concaténer les définitions, puis écrire des instructions en Python pour extraire les mots (uniques).  Respectez l'ordre des sens données par `README`, et à la fin affichez `senses2`."
   ]
  },
  {
   "cell_type": "code",
   "execution_count": null,
   "metadata": {},
   "outputs": [
    {
     "name": "stdout",
     "output_type": "stream",
     "text": [
      "[['concern', 'curiosity', 'interest', 'know', 'learn', 'sense', 'someone', 'something', 'want'], ['attention', 'attracting', 'attracts', 'exciting', 'feature', 'holding', 'know', 'makes', 'one', 'power', 'quality', 'something', 'unusual', 'want'], ['activity', 'diversion', 'enjoy', 'occupies', 'one', 'pleasantly', 'studying', 'subject', 'thoughts', 'time', 'usually'], ['advantages', 'bring', 'done', 'reason', 'someone', 'something', 'things', 'wanting'], ['company', 'financial', 'industry', 'interest', 'involvement', 'legal', 'particular', 'right', 'share', 'shares', 'something'], ['account', 'amount', 'back', 'bank', 'borrow', 'borrowed', 'borrowing', 'charge', 'extra', 'financial', 'fixed', 'institution', 'keep', 'money', 'must', 'paid', 'pay', 'percentage', 'usually']]\n"
     ]
    }
   ],
   "source": [
    "import nltk\n",
    "from nltk.corpus import stopwords\n",
    "from nltk.tokenize import word_tokenize\n",
    "import string\n",
    "\n",
    "try:\n",
    "    stop_words_english = stopwords.words('english')\n",
    "except LookupError:\n",
    "    nltk.download('stopwords')\n",
    "    stop_words_english = stopwords.words('english')\n",
    "\n",
    "try:\n",
    "    word_tokenize(\"test\")\n",
    "except LookupError:\n",
    "    nltk.download('punkt')\n",
    "\n",
    "LDOCE = [\n",
    "    \"if you have an interest in something or someone, you want to know or learn more about them\",\n",
    "    \"a quality or feature of something that attracts your attention or makes you want to know more about it\",\n",
    "    \"an activity that you enjoy doing or a subject that you enjoy studying\",\n",
    "    \"the things that bring advantages to someone or something\",\n",
    "    \"if you have an interest in a particular company or industry, you own shares in it\",\n",
    "    \"the extra money that you must pay back when you borrow money\" + \" \" + \"money paid to you by a bank or financial institution when you keep money in an account there\"\n",
    "]\n",
    "\n",
    "WNET = [\n",
    "    \"a sense of concern with and curiosity about someone or something\",\n",
    "    \"the power of attracting or holding one's attention (because it is unusual or exciting etc.)\",\n",
    "    \"a diversion that occupies one's time and thoughts (usually pleasantly)\",\n",
    "    \"a reason for wanting something done\",\n",
    "    \"a right or legal share of something; a financial involvement with something\",\n",
    "    \"a fixed charge for borrowing money; usually a percentage of the amount borrowed\"\n",
    "]\n",
    "\n",
    "combined_definitions_text = []\n",
    "for i in range(len(LDOCE)):\n",
    "    combined_definitions_text.append(LDOCE[i] + \" \" + WNET[i])\n",
    "\n",
    "senses2 = []\n",
    "\n",
    "stop_words = set(stopwords.words('english'))\n",
    "stop_words.add('etc')\n",
    "punctuation_chars = set(string.punctuation)\n",
    "\n",
    "\n",
    "for definition_text in combined_definitions_text:\n",
    "    text_lower = definition_text.lower()\n",
    "\n",
    "    tokens = word_tokenize(text_lower)\n",
    "\n",
    "    keywords_for_this_sense = []\n",
    "    for token in tokens:\n",
    "        if token.isalpha() and token not in stop_words:\n",
    "            keywords_for_this_sense.append(token)\n",
    "\n",
    "    unique_keywords = sorted(list(set(keywords_for_this_sense)))\n",
    "    senses2.append(unique_keywords)\n",
    "\n",
    "print(senses2)"
   ]
  },
  {
   "cell_type": "markdown",
   "metadata": {},
   "source": [
    "**1j.** Chargez les données depuis `interest-original.txt` dans une liste appelée `sentences` qui contient pour chaque phrase la liste des mots (sans les séparateurs *$$* et *===...*).  Ces phrases sont-elles déjà tokenisées en mots ?  Sinon, faites-le.  À ce stade, ne modifiez pas encore les occurrences annotées *interest(s)\\_X*.  Comptez le nombre total de phrases et affichez-en trois au hasard."
   ]
  },
  {
   "cell_type": "code",
   "execution_count": 11,
   "metadata": {},
   "outputs": [
    {
     "name": "stdout",
     "output_type": "stream",
     "text": [
      "Il y a 1228 phrases.\n",
      "En voici 3 au hasard :\n",
      "[['brunswick', 'also', 'has', 'interests_5', 'in', 'defense', 'and', 'aerospace', 'products', '.'], ['market', 'analysts', 'said', 'that', 'continued', 'declines', 'and', 'volatility', 'in', 'the', 'stock', 'market', 'contributed', 'generally', 'to', 'enhanced', 'investor', 'interest_1', 'in', 'precious', 'metals', ',', 'but', 'that', 'the', 'british', 'political', 'news', 'was', 'the', 'main', 'factor', 'boosting', 'prices', ':', 'chancellor', 'of', 'the', 'exchequer', 'nigel', 'lawson', 'resigned', '.'], ['but', 'he', 'also', 'noted', 'that', 'if', 'uncertainty', 'continues', 'in', 'the', 'stock', 'market', ',', 'that', 'might', 'create', 'some', 'investor', 'interest_1', 'in', 'precious', 'metals', '.']]\n"
     ]
    }
   ],
   "source": [
    "# Veuillez répondre ici à la question.\n",
    "sentences = []\n",
    "\n",
    "filename = \"interest-original.txt\"\n",
    "\n",
    "sentences = []\n",
    "raw_lines_count = 0\n",
    "with open(filename, 'r', encoding='utf-8') as f:\n",
    "    current_sentence_words = []\n",
    "    for line in f:\n",
    "        raw_lines_count += 1\n",
    "        line_stripped = line.strip()\n",
    "\n",
    "        if line_stripped == \"$$\":\n",
    "            if current_sentence_words:\n",
    "                sentences.append(current_sentence_words)\n",
    "                current_sentence_words = []\n",
    "        elif line_stripped.startswith(\"======================================\"):\n",
    "            continue\n",
    "        elif line_stripped:\n",
    "            words_in_line = line_stripped.split()\n",
    "            current_sentence_words.extend(words_in_line)\n",
    "\n",
    "    if current_sentence_words:\n",
    "        sentences.append(current_sentence_words)\n",
    "        \n",
    "print(\"Il y a {} phrases.\\nEn voici 3 au hasard :\".format(len(sentences)))\n",
    "print(sentences[151:154])"
   ]
  },
  {
   "cell_type": "markdown",
   "metadata": {},
   "source": [
    "## 2. Algorithme de Lesk simplifié\n",
    "\n",
    "**2a.** Définissez une fonction `wsd_lesk(senses, sentence)` qui prend deux arguments : une liste de listes de mots-clés (comme `senses1` et `senses2` ci-dessus) et une phrase avec une occurrence annotée de *interest* ou *interests*, et qui retourne l'index du sens le plus probable (entre 1 et 6) selon l'algorithme de Lesk.  Cet algorithme choisit le sens qui a le maximum de mots en commun avec le contexte de *interest*.  Vous pouvez choisir vous-mêmes la taille de ce voisinage (`window_size`).  En cas d'égalité entre deux sens, tirer la réponse au sort."
   ]
  },
  {
   "cell_type": "code",
   "execution_count": 61,
   "metadata": {},
   "outputs": [
    {
     "name": "stdout",
     "output_type": "stream",
     "text": [
      "2\n",
      "5\n",
      "['company', 'financial', 'industry', 'interest', 'involvement', 'legal', 'particular', 'right', 'share', 'shares', 'something']\n",
      "['last', 'year', ',', 'mitsubishi', 'international', 'corp.', ',', 'the', 'new', 'york-based', 'arm', 'of', 'mitsubishi', 'corp.', ',', 'bought', 'controlling', 'interest_5', 'in', 'the', 'glass', 'company', 'in', 'a', 'joint', 'venture', 'with', 'ronald', 'bodner', ',', 'a', 'glass', 'industry', 'executive', 'and', 'mitsubishi', 'consultant', '.']\n"
     ]
    }
   ],
   "source": [
    "# Veuillez répondre ici à la question.\n",
    "\n",
    "import nltk\n",
    "from nltk.corpus import stopwords\n",
    "import random\n",
    "\n",
    "try:\n",
    "    stop_words_english = stopwords.words('english')\n",
    "except LookupError:\n",
    "    nltk.download('stopwords')\n",
    "    stop_words_english = stopwords.words('english')\n",
    "\n",
    "\n",
    "def wsd_lesk(senses, sentence, window_size=5):\n",
    "    stop_words = set(stopwords.words('english'))\n",
    "\n",
    "    target_word_index = -1\n",
    "    for i, token in enumerate(sentence):\n",
    "        if token.startswith(\"interest_\") or token.startswith(\"interests_\"):\n",
    "            target_word_index = i\n",
    "            break\n",
    "\n",
    "    if target_word_index == -1:\n",
    "        return None\n",
    "\n",
    "    start_index = max(0, target_word_index - window_size)\n",
    "    end_index = min(len(sentence), target_word_index + window_size + 1)\n",
    "    context_tokens_raw = sentence[start_index:target_word_index] + sentence[target_word_index+1:end_index]\n",
    "\n",
    "    context_cleaned = set()\n",
    "    for token in context_tokens_raw:\n",
    "        token_lower = token.lower()\n",
    "        if token_lower.isalpha() and token_lower not in stop_words:\n",
    "            context_cleaned.add(token_lower)\n",
    "    \n",
    "    if not context_cleaned:\n",
    "        return random.randint(1, len(senses))\n",
    "\n",
    "    best_sense_indices = []\n",
    "    max_overlap = -1\n",
    "\n",
    "    for i, sense_kws in enumerate(senses):\n",
    "        sense_kws_set = set(sense_kws)\n",
    "        overlap = len(context_cleaned.intersection(sense_kws_set))\n",
    "\n",
    "        if overlap > max_overlap:\n",
    "            max_overlap = overlap\n",
    "            best_sense_indices = [i + 1]\n",
    "        elif overlap == max_overlap and max_overlap != -1:\n",
    "            best_sense_indices.append(i + 1)\n",
    "    \n",
    "    if not best_sense_indices:\n",
    "        return random.randint(1, len(senses))\n",
    "    elif len(best_sense_indices) == 1:\n",
    "        return best_sense_indices[0]\n",
    "    else:\n",
    "        return random.randint(1, len(senses))\n",
    "\n",
    "\n",
    "print(wsd_lesk(senses1, sentences[11]))\n",
    "print(wsd_lesk(senses2, sentences[11]))\n",
    "\n",
    "print(senses2[4])\n",
    "print(sentences[11])"
   ]
  },
  {
   "cell_type": "markdown",
   "metadata": {},
   "source": [
    "**2b.** Définissez maintenant une fonction `evaluate_wsd(fct_name, senses, sentences)` qui prend en paramètre le nom de la méthode de similarité (pour commencer : `wsd_lesk`) ainsi que la liste des mots-clés par sens, et la liste de phrases, et qui retourne le score de la méthode de similarité.  Ce score sera tout simplement le pourcentage de réponses correctes (sens trouvé identique au sens annoté)."
   ]
  },
  {
   "cell_type": "code",
   "execution_count": 74,
   "metadata": {},
   "outputs": [
    {
     "name": "stdout",
     "output_type": "stream",
     "text": [
      "Score de la méthode 'wsd_lesk': 25.08%\n"
     ]
    }
   ],
   "source": [
    "# Veuillez répondre ici à la question.\n",
    "import random\n",
    "from nltk.corpus import stopwords # Nécessaire si wsd_lesk l'utilise en interne\n",
    "\n",
    "def evaluate_wsd(wsd_function, senses_keywords, sentences_data):\n",
    "    correct_predictions = 0\n",
    "    total_predictions = 0\n",
    "\n",
    "    for sentence_tokens in sentences_data:\n",
    "        true_sense = None\n",
    "        for token in sentence_tokens:\n",
    "            if token.startswith(\"interest_\") or token.startswith(\"interests_\"):\n",
    "                try:\n",
    "                    sense_part = token.split('_')[-1]\n",
    "                    numeric_sense_str = \"\"\n",
    "                    for char in sense_part:\n",
    "                        if char.isdigit():\n",
    "                            numeric_sense_str += char\n",
    "                        else:\n",
    "                            break\n",
    "                    if numeric_sense_str:\n",
    "                        true_sense = int(numeric_sense_str)\n",
    "                    break\n",
    "                except (IndexError, ValueError):\n",
    "                    continue\n",
    "\n",
    "        if true_sense is None:\n",
    "            continue\n",
    "\n",
    "        total_predictions += 1\n",
    "       \n",
    "        predicted_sense = wsd_function(senses_keywords, sentence_tokens)\n",
    "        \n",
    "        if predicted_sense is not None and predicted_sense == true_sense:\n",
    "            correct_predictions += 1\n",
    "\n",
    "    if total_predictions == 0:\n",
    "        return 0.0\n",
    "\n",
    "    accuracy = (correct_predictions / total_predictions) * 100\n",
    "    return accuracy\n",
    "\n",
    "score = evaluate_wsd(wsd_lesk, senses2, sentences)\n",
    "print(f\"Score de la méthode 'wsd_lesk': {score:.2f}%\")"
   ]
  },
  {
   "cell_type": "markdown",
   "metadata": {},
   "source": [
    "**2c.** En fixant au mieux la taille de la fenêtre autour de *interest*, quel est le meilleur score de la méthode de Lesk simplifiée ?  Quelle liste de sens conduit à de meilleurs scores, `senses1` ou `senses2` ?"
   ]
  },
  {
   "cell_type": "code",
   "execution_count": null,
   "metadata": {},
   "outputs": [],
   "source": [
    "# Veuillez répondre ici à la question.\n"
   ]
  },
  {
   "cell_type": "markdown",
   "metadata": {},
   "source": [
    "## 3. Utilisation de word2vec pour la similarité contexte vs. synset\n",
    "\n",
    "**3a.** En réutilisant une partie du code de `wsd_lesk`, veuillez maintenant définir une fonction `wsd_word2vec(senses, sentence)` qui choisit le sens en utilisant la similarité **word2vec** étudiée dans le labo précédent. \n",
    "* Vous pouvez chercher dans la [documentation des KeyedVectors](https://radimrehurek.com/gensim/models/keyedvectors.html) comment calculer directement la similarité entre deux listes de mots.\n",
    "* Comme `wsd_lesk`, la nouvelle fonction `wsd_word2vec` prend en argument une liste de listes de mots-clés par sens (comme `senses1` et `senses2` ci-dessus), et une phrase avec une occurrence annotée de *interest* ou *interests*.\n",
    "* La fonction retourne le numéro du sens le plus probable selon la similarité word2vec entre les mots du sens et ceux du voisinage de *interest*.  En cas d'égalité, tirer le sens au sort.\n",
    "* Vous pouvez régler la taille du voisinage (`window_size`) par l'expérimentation.  "
   ]
  },
  {
   "cell_type": "code",
   "execution_count": null,
   "metadata": {},
   "outputs": [],
   "source": [
    "import gensim\n",
    "from gensim.models import KeyedVectors\n",
    "path_to_model = \"../../../gensim-data/word2vec-google-news-300/word2vec-google-news-300.gz\" # à adapter\n",
    "wv_model = gensim.models.KeyedVectors.load_word2vec_format(path_to_model, binary=True)  # C bin format"
   ]
  },
  {
   "cell_type": "code",
   "execution_count": null,
   "metadata": {},
   "outputs": [],
   "source": [
    "# Veuillez répondre ici à la question.\n"
   ]
  },
  {
   "cell_type": "markdown",
   "metadata": {},
   "source": [
    "**3b.** Appliquez maintenant la même méthode `evaluate_wsd` avec la fonction `wsd_word2vec` (en cherchant une bonne valeur de la taille de la fenêtre) et affichez le score de la similarité word2vec.  Comment se compare-t-il avec le score précédent (Lesk) ?"
   ]
  },
  {
   "cell_type": "code",
   "execution_count": null,
   "metadata": {},
   "outputs": [],
   "source": [
    "# Veuillez répondre ici à la question.\n"
   ]
  },
  {
   "cell_type": "markdown",
   "metadata": {},
   "source": [
    "## 4. Classification supervisée avec des traits lexicaux\n",
    "Vous entraînerez maintenant des classifieurs pour prédire le sens d'une occurrence dans une phrase.  Le premier but sera de transformer chaque phrase en un ensemble d'attributs pour formater les données en vue des expériences de classification.\n",
    "\n",
    "Veuillez utiliser le classifieur `NaiveBayesClassifier` fourni par NLTK.  Le mode d'emploi se trouve dans le [Chapitre 6, sections 1.1-1.3](https://www.nltk.org/book/ch06.html) du livre NLTK.  Consultez-le attentivement pour trouver comment formater les données.  De plus, il faudra séparer les données en sous-ensembles d'entraînement et de test."
   ]
  },
  {
   "cell_type": "markdown",
   "metadata": {},
   "source": [
    "On vous propose de nommer les attributs `word-k`, ..., `word-2`, `word-1`, `word+1`, `word+2`, ..., `word+k` (fenêtre de taille `2*k` autour de *interest*).  Leurs valeurs sont les mots observés aux emplacements respectifs, ou `NONE` si la position dépasse l'étendue de la phrase.  Vous ajouterez un attribut nommé `word0` qui est l'occurrence du mot *interest* au singulier ou au pluriel.  \n",
    "\n",
    "Pour chaque occurrence de *interest*, vous devrez donc créer la représentation suivante (où `6` est le numéro du sens, essentiel pour l'entraînement, mais à cacher lors de l'évaluation) :\n",
    "```\n",
    "[{'word-1': 'in', 'word+1': 'rates', 'word-2': 'declines', 'word+2': 'NONE', 'word0': 'interest'}, 6]\n",
    "```\n",
    "\n",
    "**4a.** En partant de la liste des phrases appelée `sentences` préparée plus haut, veuillez générer la liste avec toutes les représentation, appelée `items_with_features`.  Vous pouvez vous aider du livre NLTK."
   ]
  },
  {
   "cell_type": "code",
   "execution_count": null,
   "metadata": {},
   "outputs": [],
   "source": [
    "# Veuillez répondre ici à la question.\n",
    "\n",
    "print(len(items_with_features))\n",
    "print(items_with_features[151:154])"
   ]
  },
  {
   "cell_type": "markdown",
   "metadata": {},
   "source": [
    "**4b.** Veuillez séparer les données aléatoirement en 80% pour l'entraînement et 20%  pour l'évaluation.  Veuillez faire une division stratifiée : les deux sous-ensembles doivent contenir les mêmes proportions de sens que l'ensemble de départ.  Ils seront appelés `iwf_train` et `iwf_test`."
   ]
  },
  {
   "cell_type": "code",
   "execution_count": null,
   "metadata": {},
   "outputs": [],
   "source": [
    "from random import shuffle"
   ]
  },
  {
   "cell_type": "code",
   "execution_count": null,
   "metadata": {},
   "outputs": [],
   "source": [
    "iwf_train = []\n",
    "iwf_test  = []\n",
    "# Veuillez répondre ici à la question.\n",
    "\n",
    "print(len(iwf_train), ' ', len(iwf_test))\n",
    "print(iwf_test[:2], iwf_test[-2:])"
   ]
  },
  {
   "cell_type": "markdown",
   "metadata": {},
   "source": [
    "**4c.** Veuillez créer une instance de `NaiveBayesClassifier`, l'entraîner sur `iwf_train` et la tester sur `iwf_test` (voir la documentation NLTK).  En expérimentant avec différentes largeurs de fenêtres, quel est le meilleur score que vous obtenez (avec la fonction `accuracy` de NLTK) sur l'ensemble de test ?  Comment se compare-t-il avec les précédents ?"
   ]
  },
  {
   "cell_type": "code",
   "execution_count": null,
   "metadata": {},
   "outputs": [],
   "source": [
    "from nltk.classify import naivebayes \n",
    "# Veuillez répondre ici à la question.\n"
   ]
  },
  {
   "cell_type": "markdown",
   "metadata": {},
   "source": [
    "**4d.** En utilisant la fonction `show_most_informative_features()`, veuillez afficher les attributs les plus informatifs et commenter le résultat."
   ]
  },
  {
   "cell_type": "code",
   "execution_count": null,
   "metadata": {},
   "outputs": [],
   "source": []
  },
  {
   "cell_type": "markdown",
   "metadata": {},
   "source": [
    "**4e.** On souhaite également obtenir les scores pour chaque sens.  Pour ce faire, il faut demander les prédictions une par une au classifieur (voir le [livre NLTK](https://www.nltk.org/book/ch06.html)), et comptabiliser les prédictions correctes pour chaque sens.  Vous pouvez vous inspirer de `evaluate_wsd`, et écrire une fonction `evaluate_wsd_supervised(classifier, items_with_features)`, que vous appliquerez aux donnés `iwf_test`.  Veuillez afficher ces scores."
   ]
  },
  {
   "cell_type": "code",
   "execution_count": null,
   "metadata": {},
   "outputs": [],
   "source": [
    "def evaluate_wsd_supervised(classifier, items_with_features):\n",
    "# à compléter\n",
    "\n",
    "evaluate_wsd_supervised(classifier, iwf_test)"
   ]
  },
  {
   "cell_type": "markdown",
   "metadata": {},
   "source": [
    "## 5. Conclusion\n",
    "\n",
    "Veuillez recopier ci-dessous, en guise de conclusion, les scores des trois expériences réalisées, pour pouvoir les comparer d'un coup d'oeil.  Quel est le meilleur score obtenu?"
   ]
  },
  {
   "cell_type": "code",
   "execution_count": null,
   "metadata": {},
   "outputs": [],
   "source": []
  },
  {
   "cell_type": "markdown",
   "metadata": {},
   "source": [
    "## Fin du laboratoire\n",
    "\n",
    "Merci de nettoyer votre feuille, sauvegarder le résultat, et soumettre le *notebook* sur Cyberlearn."
   ]
  },
  {
   "cell_type": "code",
   "execution_count": null,
   "metadata": {},
   "outputs": [],
   "source": []
  }
 ],
 "metadata": {
  "kernelspec": {
   "display_name": "tal",
   "language": "python",
   "name": "python3"
  },
  "language_info": {
   "codemirror_mode": {
    "name": "ipython",
    "version": 3
   },
   "file_extension": ".py",
   "mimetype": "text/x-python",
   "name": "python",
   "nbconvert_exporter": "python",
   "pygments_lexer": "ipython3",
   "version": "3.11.11"
  }
 },
 "nbformat": 4,
 "nbformat_minor": 4
}
